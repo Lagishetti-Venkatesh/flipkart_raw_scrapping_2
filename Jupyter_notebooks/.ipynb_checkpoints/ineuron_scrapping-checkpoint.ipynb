{
 "cells": [
  {
   "cell_type": "markdown",
   "id": "83d91fb3",
   "metadata": {},
   "source": [
    "\n",
    "1. Go to Courses Page\n",
    "2. Go To Each course in the Page and grab\n",
    "     a. Name of the course\n",
    "     b. Content Owner name, image, description, Social links\n",
    "     c. course contents\n",
    " repeat each process for all the every course."
   ]
  },
  {
   "cell_type": "code",
   "execution_count": 1,
   "id": "dcc5fb7a",
   "metadata": {
    "scrolled": true
   },
   "outputs": [
    {
     "name": "stderr",
     "output_type": "stream",
     "text": [
      "/home/venky/anaconda3/lib/python3.8/site-packages/requests/__init__.py:89: RequestsDependencyWarning: urllib3 (1.26.10) or chardet (3.0.4) doesn't match a supported version!\n",
      "  warnings.warn(\"urllib3 ({}) or chardet ({}) doesn't match a supported \"\n"
     ]
    }
   ],
   "source": [
    "from urllib.request import urlopen as uReq\n",
    "from bs4 import BeautifulSoup as bs\n",
    "from selenium import webdriver\n",
    "import requests\n",
    "import time\n",
    "from selenium.webdriver.common.desired_capabilities import DesiredCapabilities\n",
    "\n",
    "\n",
    "\n",
    "path = '/home/venky/flipkart_raw_scrapping/Jupyter_notebooks/chromedriver'\n",
    "ineuron_url = 'https://ineuron.ai/courses'\n"
   ]
  },
  {
   "cell_type": "code",
   "execution_count": 2,
   "id": "e356a988",
   "metadata": {},
   "outputs": [],
   "source": [
    "option = webdriver.ChromeOptions()\n",
    "option.add_argument('headless')"
   ]
  },
  {
   "cell_type": "code",
   "execution_count": 3,
   "id": "12100a12",
   "metadata": {},
   "outputs": [],
   "source": [
    "driver = webdriver.Chrome(executable_path=path, options=option)\n",
    "driver.get('https://ineuron.ai/courses')\n",
    "\n",
    "pre_scroll_height = driver.execute_script('return document.body.scrollHeight;')\n",
    "run_time, max_run_time = 0, 1\n",
    "while True:\n",
    "    iteration_start = time.time()\n",
    "    # Scroll webpage, the 100 allows for a more 'aggressive' scroll\n",
    "    driver.execute_script('window.scrollTo(0, 100*document.body.scrollHeight);')\n",
    "\n",
    "    post_scroll_height = driver.execute_script('return document.body.scrollHeight;')\n",
    "\n",
    "    scrolled = post_scroll_height != pre_scroll_height\n",
    "    timed_out = run_time >= max_run_time\n",
    "\n",
    "    if scrolled:\n",
    "        run_time = 0\n",
    "        pre_scroll_height = post_scroll_height\n",
    "    elif not scrolled and not timed_out:\n",
    "        run_time += time.time() - iteration_start\n",
    "    elif not scrolled and timed_out:\n",
    "        break\n",
    "ineuron_page = driver.page_source\n",
    "# closing the driver is optional \n",
    "driver.close()"
   ]
  },
  {
   "cell_type": "code",
   "execution_count": 4,
   "id": "419533f4",
   "metadata": {},
   "outputs": [],
   "source": [
    "courses_html = bs(ineuron_page, 'html.parser')"
   ]
  },
  {
   "cell_type": "code",
   "execution_count": 5,
   "id": "294c5bda",
   "metadata": {},
   "outputs": [],
   "source": [
    "nav_bar = courses_html.find_all('div', {'id':\"__next\"})"
   ]
  },
  {
   "cell_type": "code",
   "execution_count": 6,
   "id": "98be17f3",
   "metadata": {},
   "outputs": [],
   "source": [
    "course = nav_bar[0].find_all('div', {'class':'infinite-scroll-component__outerdiv'})"
   ]
  },
  {
   "cell_type": "code",
   "execution_count": 7,
   "id": "782381e0",
   "metadata": {},
   "outputs": [],
   "source": [
    "course_link = course[0].find_all('div', {\"class\":\"Course_right-area__1XUfi\"})\n",
    "course_url = 'https://ineuron.ai'"
   ]
  },
  {
   "cell_type": "code",
   "execution_count": 10,
   "id": "023428d8",
   "metadata": {},
   "outputs": [
    {
     "name": "stdout",
     "output_type": "stream",
     "text": [
      "https://ineuron.ai/course/HTML-and-CSS-for-Web-Development\n",
      "no instructor\n"
     ]
    },
    {
     "ename": "NameError",
     "evalue": "name 'instructor_words' is not defined",
     "output_type": "error",
     "traceback": [
      "\u001b[0;31m---------------------------------------------------------------------------\u001b[0m",
      "\u001b[0;31mNameError\u001b[0m                                 Traceback (most recent call last)",
      "\u001b[0;32m<ipython-input-10-bc45781d1e26>\u001b[0m in \u001b[0;36m<module>\u001b[0;34m\u001b[0m\n\u001b[1;32m     23\u001b[0m     document= {'name': name, \n\u001b[1;32m     24\u001b[0m                \u001b[0;34m'instructor'\u001b[0m\u001b[0;34m:\u001b[0m\u001b[0minstructor_name\u001b[0m\u001b[0;34m,\u001b[0m\u001b[0;34m\u001b[0m\u001b[0;34m\u001b[0m\u001b[0m\n\u001b[0;32m---> 25\u001b[0;31m                \u001b[0;34m'words'\u001b[0m\u001b[0;34m:\u001b[0m\u001b[0minstructor_words\u001b[0m\u001b[0;34m,\u001b[0m\u001b[0;34m\u001b[0m\u001b[0;34m\u001b[0m\u001b[0m\n\u001b[0m\u001b[1;32m     26\u001b[0m                \u001b[0;34m'youtube'\u001b[0m\u001b[0;34m:\u001b[0m\u001b[0myoutube\u001b[0m\u001b[0;34m,\u001b[0m\u001b[0;34m\u001b[0m\u001b[0;34m\u001b[0m\u001b[0m\n\u001b[1;32m     27\u001b[0m                \u001b[0;34m'linked_in'\u001b[0m\u001b[0;34m:\u001b[0m\u001b[0mlinked_in\u001b[0m\u001b[0;34m,\u001b[0m\u001b[0;34m\u001b[0m\u001b[0;34m\u001b[0m\u001b[0m\n",
      "\u001b[0;31mNameError\u001b[0m: name 'instructor_words' is not defined"
     ]
    }
   ],
   "source": [
    "courses_data = []\n",
    "for i in range(0, len(course_link)-1):\n",
    "    single_course = course_url+course_link[i].a['href']\n",
    "    print(single_course)\n",
    "    \n",
    "    driver = webdriver.Chrome(executable_path=path, options=option)\n",
    "    driver.get(single_course)\n",
    "    course = driver.page_source\n",
    "    course_html = bs(course, \"html.parser\")\n",
    "    name = course_html.find_all('h3',{\"class\":'Hero_course-title__1a-Hg'})[0].text\n",
    "    try:\n",
    "        instructor = course_html.find_all('div',{'class':'InstructorDetails_left__3jo8Z'})\n",
    "        instructor_name = instructor[0].h5.text\n",
    "        instructor_words = instructor[0].p.text\n",
    "        linked_in = instructor[0].div.div.find_all('a')[0]['href']\n",
    "        youtube = instructor[0].div.div.find_all('a')[1]['href']\n",
    "    except:\n",
    "        print(\"no instructor\")\n",
    "        instructor_name = 'Unknown'\n",
    "        instructor_words = 'Unknown'\n",
    "        linked_in = 'Unknown'\n",
    "        youtube = 'unknown'\n",
    "    #print(name, instructor_name, instructor_words,youtube, linked_in, sep='\\n\\n')\n",
    "    contents = list(course_html.find_all('div', {'class': 'CourseLearning_card__WxYAo card'})[0].ul.descendants)\n",
    "    content_list = [contents[i] for i in range(1, len(contents), 2)]\n",
    "    document= {'name': name, \n",
    "               'instructor':instructor_name, \n",
    "               'words':instructor_words, \n",
    "               'youtube':youtube, \n",
    "               'linked_in':linked_in,\n",
    "               'content':content_list\n",
    "               }\n",
    "    courses_data.append(document)\n",
    "    print(courses_data, end='\\n\\n')\n",
    "    driver.close()\n"
   ]
  },
  {
   "cell_type": "code",
   "execution_count": null,
   "id": "82d297f5",
   "metadata": {},
   "outputs": [],
   "source": []
  },
  {
   "cell_type": "code",
   "execution_count": null,
   "id": "0bf41e68",
   "metadata": {},
   "outputs": [],
   "source": []
  }
 ],
 "metadata": {
  "kernelspec": {
   "display_name": "Python 3",
   "language": "python",
   "name": "python3"
  },
  "language_info": {
   "codemirror_mode": {
    "name": "ipython",
    "version": 3
   },
   "file_extension": ".py",
   "mimetype": "text/x-python",
   "name": "python",
   "nbconvert_exporter": "python",
   "pygments_lexer": "ipython3",
   "version": "3.8.8"
  }
 },
 "nbformat": 4,
 "nbformat_minor": 5
}
